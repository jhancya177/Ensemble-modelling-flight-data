{
 "cells": [
  {
   "cell_type": "markdown",
   "metadata": {},
   "source": [
    "# Ensembles"
   ]
  },
  {
   "cell_type": "markdown",
   "metadata": {},
   "source": [
    "### Import libraries and Read data"
   ]
  },
  {
   "cell_type": "code",
   "execution_count": 181,
   "metadata": {},
   "outputs": [],
   "source": [
    "import pandas as pd\n",
    "import matplotlib.pyplot as plt\n",
    "from sklearn.model_selection import train_test_split"
   ]
  },
  {
   "cell_type": "code",
   "execution_count": 182,
   "metadata": {},
   "outputs": [
    {
     "data": {
      "text/html": [
       "<div>\n",
       "<style scoped>\n",
       "    .dataframe tbody tr th:only-of-type {\n",
       "        vertical-align: middle;\n",
       "    }\n",
       "\n",
       "    .dataframe tbody tr th {\n",
       "        vertical-align: top;\n",
       "    }\n",
       "\n",
       "    .dataframe thead th {\n",
       "        text-align: right;\n",
       "    }\n",
       "</style>\n",
       "<table border=\"1\" class=\"dataframe\">\n",
       "  <thead>\n",
       "    <tr style=\"text-align: right;\">\n",
       "      <th></th>\n",
       "      <th>carrier</th>\n",
       "      <th>flight</th>\n",
       "      <th>tailnum</th>\n",
       "      <th>origin</th>\n",
       "      <th>dest</th>\n",
       "      <th>air_time</th>\n",
       "      <th>distance</th>\n",
       "      <th>hour</th>\n",
       "      <th>minute</th>\n",
       "      <th>temp</th>\n",
       "      <th>...</th>\n",
       "      <th>precip</th>\n",
       "      <th>pressure</th>\n",
       "      <th>visib</th>\n",
       "      <th>type</th>\n",
       "      <th>manufacturer</th>\n",
       "      <th>model</th>\n",
       "      <th>engines</th>\n",
       "      <th>seats</th>\n",
       "      <th>engine</th>\n",
       "      <th>arr_delay</th>\n",
       "    </tr>\n",
       "  </thead>\n",
       "  <tbody>\n",
       "    <tr>\n",
       "      <th>0</th>\n",
       "      <td>B6</td>\n",
       "      <td>1201</td>\n",
       "      <td>N643JB</td>\n",
       "      <td>JFK</td>\n",
       "      <td>FLL</td>\n",
       "      <td>135.0</td>\n",
       "      <td>1069</td>\n",
       "      <td>21</td>\n",
       "      <td>50</td>\n",
       "      <td>73.04</td>\n",
       "      <td>...</td>\n",
       "      <td>0.0</td>\n",
       "      <td>1019.4</td>\n",
       "      <td>10.0</td>\n",
       "      <td>Fixed wing multi engine</td>\n",
       "      <td>AIRBUS</td>\n",
       "      <td>A320-232</td>\n",
       "      <td>2.0</td>\n",
       "      <td>200.0</td>\n",
       "      <td>Turbo-fan</td>\n",
       "      <td>1.0</td>\n",
       "    </tr>\n",
       "    <tr>\n",
       "      <th>1</th>\n",
       "      <td>DL</td>\n",
       "      <td>1773</td>\n",
       "      <td>N3743H</td>\n",
       "      <td>JFK</td>\n",
       "      <td>LAS</td>\n",
       "      <td>287.0</td>\n",
       "      <td>2248</td>\n",
       "      <td>15</td>\n",
       "      <td>35</td>\n",
       "      <td>71.06</td>\n",
       "      <td>...</td>\n",
       "      <td>0.0</td>\n",
       "      <td>1020.4</td>\n",
       "      <td>10.0</td>\n",
       "      <td>Fixed wing multi engine</td>\n",
       "      <td>BOEING</td>\n",
       "      <td>737-832</td>\n",
       "      <td>2.0</td>\n",
       "      <td>189.0</td>\n",
       "      <td>Turbo-jet</td>\n",
       "      <td>0.0</td>\n",
       "    </tr>\n",
       "    <tr>\n",
       "      <th>2</th>\n",
       "      <td>EV</td>\n",
       "      <td>4572</td>\n",
       "      <td>N11107</td>\n",
       "      <td>EWR</td>\n",
       "      <td>GSP</td>\n",
       "      <td>84.0</td>\n",
       "      <td>594</td>\n",
       "      <td>15</td>\n",
       "      <td>9</td>\n",
       "      <td>78.80</td>\n",
       "      <td>...</td>\n",
       "      <td>0.0</td>\n",
       "      <td>NaN</td>\n",
       "      <td>5.0</td>\n",
       "      <td>Fixed wing multi engine</td>\n",
       "      <td>EMBRAER</td>\n",
       "      <td>EMB-145XR</td>\n",
       "      <td>2.0</td>\n",
       "      <td>55.0</td>\n",
       "      <td>Turbo-fan</td>\n",
       "      <td>1.0</td>\n",
       "    </tr>\n",
       "    <tr>\n",
       "      <th>3</th>\n",
       "      <td>B6</td>\n",
       "      <td>179</td>\n",
       "      <td>N526JB</td>\n",
       "      <td>JFK</td>\n",
       "      <td>PHX</td>\n",
       "      <td>305.0</td>\n",
       "      <td>2153</td>\n",
       "      <td>17</td>\n",
       "      <td>35</td>\n",
       "      <td>44.06</td>\n",
       "      <td>...</td>\n",
       "      <td>0.0</td>\n",
       "      <td>1009.2</td>\n",
       "      <td>10.0</td>\n",
       "      <td>NaN</td>\n",
       "      <td>NaN</td>\n",
       "      <td>NaN</td>\n",
       "      <td>NaN</td>\n",
       "      <td>NaN</td>\n",
       "      <td>NaN</td>\n",
       "      <td>1.0</td>\n",
       "    </tr>\n",
       "    <tr>\n",
       "      <th>4</th>\n",
       "      <td>US</td>\n",
       "      <td>1733</td>\n",
       "      <td>N162UW</td>\n",
       "      <td>LGA</td>\n",
       "      <td>CLT</td>\n",
       "      <td>78.0</td>\n",
       "      <td>544</td>\n",
       "      <td>7</td>\n",
       "      <td>53</td>\n",
       "      <td>69.98</td>\n",
       "      <td>...</td>\n",
       "      <td>0.0</td>\n",
       "      <td>1021.3</td>\n",
       "      <td>10.0</td>\n",
       "      <td>Fixed wing multi engine</td>\n",
       "      <td>AIRBUS INDUSTRIE</td>\n",
       "      <td>A321-211</td>\n",
       "      <td>2.0</td>\n",
       "      <td>199.0</td>\n",
       "      <td>Turbo-jet</td>\n",
       "      <td>0.0</td>\n",
       "    </tr>\n",
       "  </tbody>\n",
       "</table>\n",
       "<p>5 rows × 25 columns</p>\n",
       "</div>"
      ],
      "text/plain": [
       "  carrier  flight tailnum origin dest  air_time  distance  hour  minute  \\\n",
       "0      B6    1201  N643JB    JFK  FLL     135.0      1069    21      50   \n",
       "1      DL    1773  N3743H    JFK  LAS     287.0      2248    15      35   \n",
       "2      EV    4572  N11107    EWR  GSP      84.0       594    15       9   \n",
       "3      B6     179  N526JB    JFK  PHX     305.0      2153    17      35   \n",
       "4      US    1733  N162UW    LGA  CLT      78.0       544     7      53   \n",
       "\n",
       "    temp  ...  precip  pressure  visib                     type  \\\n",
       "0  73.04  ...     0.0    1019.4   10.0  Fixed wing multi engine   \n",
       "1  71.06  ...     0.0    1020.4   10.0  Fixed wing multi engine   \n",
       "2  78.80  ...     0.0       NaN    5.0  Fixed wing multi engine   \n",
       "3  44.06  ...     0.0    1009.2   10.0                      NaN   \n",
       "4  69.98  ...     0.0    1021.3   10.0  Fixed wing multi engine   \n",
       "\n",
       "       manufacturer      model  engines  seats     engine arr_delay  \n",
       "0            AIRBUS   A320-232      2.0  200.0  Turbo-fan       1.0  \n",
       "1            BOEING    737-832      2.0  189.0  Turbo-jet       0.0  \n",
       "2           EMBRAER  EMB-145XR      2.0   55.0  Turbo-fan       1.0  \n",
       "3               NaN        NaN      NaN    NaN        NaN       1.0  \n",
       "4  AIRBUS INDUSTRIE   A321-211      2.0  199.0  Turbo-jet       0.0  \n",
       "\n",
       "[5 rows x 25 columns]"
      ]
     },
     "execution_count": 182,
     "metadata": {},
     "output_type": "execute_result"
    }
   ],
   "source": [
    "data=pd.read_csv(\"flight-data.csv\")\n",
    "data.head()"
   ]
  },
  {
   "cell_type": "markdown",
   "metadata": {},
   "source": [
    "### Exploratory Data Analysis"
   ]
  },
  {
   "cell_type": "code",
   "execution_count": 183,
   "metadata": {},
   "outputs": [
    {
     "data": {
      "text/plain": [
       "(10000, 25)"
      ]
     },
     "execution_count": 183,
     "metadata": {},
     "output_type": "execute_result"
    }
   ],
   "source": [
    "data.shape"
   ]
  },
  {
   "cell_type": "code",
   "execution_count": 184,
   "metadata": {
    "scrolled": true
   },
   "outputs": [
    {
     "data": {
      "text/plain": [
       "carrier            0\n",
       "flight             0\n",
       "tailnum           74\n",
       "origin             0\n",
       "dest               0\n",
       "air_time         284\n",
       "distance           0\n",
       "hour               0\n",
       "minute             0\n",
       "temp              48\n",
       "dewp              48\n",
       "humid             48\n",
       "wind_dir         269\n",
       "wind_speed        49\n",
       "wind_gust       7613\n",
       "precip            46\n",
       "pressure        1192\n",
       "visib             46\n",
       "type            1501\n",
       "manufacturer    1501\n",
       "model           1501\n",
       "engines         1501\n",
       "seats           1501\n",
       "engine          1501\n",
       "arr_delay        284\n",
       "dtype: int64"
      ]
     },
     "execution_count": 184,
     "metadata": {},
     "output_type": "execute_result"
    }
   ],
   "source": [
    "data.isna().sum()"
   ]
  },
  {
   "cell_type": "code",
   "execution_count": 185,
   "metadata": {
    "scrolled": true
   },
   "outputs": [
    {
     "data": {
      "text/plain": [
       "carrier          object\n",
       "flight            int64\n",
       "tailnum          object\n",
       "origin           object\n",
       "dest             object\n",
       "air_time        float64\n",
       "distance          int64\n",
       "hour              int64\n",
       "minute            int64\n",
       "temp            float64\n",
       "dewp            float64\n",
       "humid           float64\n",
       "wind_dir        float64\n",
       "wind_speed      float64\n",
       "wind_gust       float64\n",
       "precip          float64\n",
       "pressure        float64\n",
       "visib           float64\n",
       "type             object\n",
       "manufacturer     object\n",
       "model            object\n",
       "engines         float64\n",
       "seats           float64\n",
       "engine           object\n",
       "arr_delay       float64\n",
       "dtype: object"
      ]
     },
     "execution_count": 185,
     "metadata": {},
     "output_type": "execute_result"
    }
   ],
   "source": [
    "data.dtypes"
   ]
  },
  {
   "cell_type": "code",
   "execution_count": 186,
   "metadata": {},
   "outputs": [
    {
     "data": {
      "text/plain": [
       "carrier           16\n",
       "flight          2290\n",
       "tailnum         2795\n",
       "origin             3\n",
       "dest             101\n",
       "air_time         381\n",
       "distance         199\n",
       "hour              19\n",
       "minute            60\n",
       "temp             142\n",
       "dewp             127\n",
       "humid           2005\n",
       "wind_dir          37\n",
       "wind_speed        32\n",
       "wind_gust         34\n",
       "precip            45\n",
       "pressure         425\n",
       "visib             19\n",
       "type               3\n",
       "manufacturer      28\n",
       "model             86\n",
       "engines            3\n",
       "seats             40\n",
       "engine             6\n",
       "arr_delay          2\n",
       "dtype: int64"
      ]
     },
     "execution_count": 186,
     "metadata": {},
     "output_type": "execute_result"
    }
   ],
   "source": [
    "data.nunique()"
   ]
  },
  {
   "cell_type": "markdown",
   "metadata": {},
   "source": [
    "* Dropped columns with categorical values which have more 10 unique values"
   ]
  },
  {
   "cell_type": "code",
   "execution_count": 187,
   "metadata": {},
   "outputs": [],
   "source": [
    "data.drop(columns = ['carrier' , 'tailnum' , 'dest' , 'manufacturer' , 'model'] , inplace = True)"
   ]
  },
  {
   "cell_type": "code",
   "execution_count": 188,
   "metadata": {},
   "outputs": [
    {
     "data": {
      "text/plain": [
       "(10000, 20)"
      ]
     },
     "execution_count": 188,
     "metadata": {},
     "output_type": "execute_result"
    }
   ],
   "source": [
    "data.shape"
   ]
  },
  {
   "cell_type": "code",
   "execution_count": 189,
   "metadata": {},
   "outputs": [
    {
     "data": {
      "text/plain": [
       "flight          int64\n",
       "origin         object\n",
       "air_time      float64\n",
       "distance        int64\n",
       "hour            int64\n",
       "minute          int64\n",
       "temp          float64\n",
       "dewp          float64\n",
       "humid         float64\n",
       "wind_dir      float64\n",
       "wind_speed    float64\n",
       "wind_gust     float64\n",
       "precip        float64\n",
       "pressure      float64\n",
       "visib         float64\n",
       "type           object\n",
       "engines       float64\n",
       "seats         float64\n",
       "engine         object\n",
       "arr_delay     float64\n",
       "dtype: object"
      ]
     },
     "execution_count": 189,
     "metadata": {},
     "output_type": "execute_result"
    }
   ],
   "source": [
    "data.dtypes"
   ]
  },
  {
   "cell_type": "code",
   "execution_count": 190,
   "metadata": {},
   "outputs": [
    {
     "data": {
      "image/png": "[encoded data removed]",
      "text/plain": [
       "<Figure size 576x504 with 2 Axes>"
      ]
     },
     "metadata": {
      "needs_background": "light"
     },
     "output_type": "display_data"
    }
   ],
   "source": [
    "import seaborn as sns\n",
    "plt.figure(figsize=(8,7))\n",
    "sns.heatmap(data.corr())\n",
    "plt.show()"
   ]
  },
  {
   "cell_type": "code",
   "execution_count": 191,
   "metadata": {},
   "outputs": [
    {
     "data": {
      "text/html": [
       "<div>\n",
       "<style scoped>\n",
       "    .dataframe tbody tr th:only-of-type {\n",
       "        vertical-align: middle;\n",
       "    }\n",
       "\n",
       "    .dataframe tbody tr th {\n",
       "        vertical-align: top;\n",
       "    }\n",
       "\n",
       "    .dataframe thead th {\n",
       "        text-align: right;\n",
       "    }\n",
       "</style>\n",
       "<table border=\"1\" class=\"dataframe\">\n",
       "  <thead>\n",
       "    <tr style=\"text-align: right;\">\n",
       "      <th></th>\n",
       "      <th>count</th>\n",
       "      <th>mean</th>\n",
       "      <th>std</th>\n",
       "      <th>min</th>\n",
       "      <th>25%</th>\n",
       "      <th>50%</th>\n",
       "      <th>75%</th>\n",
       "      <th>max</th>\n",
       "    </tr>\n",
       "  </thead>\n",
       "  <tbody>\n",
       "    <tr>\n",
       "      <th>flight</th>\n",
       "      <td>10000.0</td>\n",
       "      <td>1993.785200</td>\n",
       "      <td>1637.565161</td>\n",
       "      <td>1.00000</td>\n",
       "      <td>580.75000</td>\n",
       "      <td>1511.00000</td>\n",
       "      <td>3514.25000</td>\n",
       "      <td>6181.00000</td>\n",
       "    </tr>\n",
       "    <tr>\n",
       "      <th>air_time</th>\n",
       "      <td>9716.0</td>\n",
       "      <td>149.771099</td>\n",
       "      <td>92.714630</td>\n",
       "      <td>21.00000</td>\n",
       "      <td>81.00000</td>\n",
       "      <td>130.00000</td>\n",
       "      <td>191.00000</td>\n",
       "      <td>648.00000</td>\n",
       "    </tr>\n",
       "    <tr>\n",
       "      <th>distance</th>\n",
       "      <td>10000.0</td>\n",
       "      <td>1033.036700</td>\n",
       "      <td>722.747763</td>\n",
       "      <td>80.00000</td>\n",
       "      <td>502.00000</td>\n",
       "      <td>872.00000</td>\n",
       "      <td>1389.00000</td>\n",
       "      <td>4983.00000</td>\n",
       "    </tr>\n",
       "    <tr>\n",
       "      <th>hour</th>\n",
       "      <td>10000.0</td>\n",
       "      <td>13.185300</td>\n",
       "      <td>4.691094</td>\n",
       "      <td>5.00000</td>\n",
       "      <td>9.00000</td>\n",
       "      <td>13.00000</td>\n",
       "      <td>17.00000</td>\n",
       "      <td>23.00000</td>\n",
       "    </tr>\n",
       "    <tr>\n",
       "      <th>minute</th>\n",
       "      <td>10000.0</td>\n",
       "      <td>26.405800</td>\n",
       "      <td>19.286677</td>\n",
       "      <td>0.00000</td>\n",
       "      <td>9.00000</td>\n",
       "      <td>29.00000</td>\n",
       "      <td>45.00000</td>\n",
       "      <td>59.00000</td>\n",
       "    </tr>\n",
       "    <tr>\n",
       "      <th>temp</th>\n",
       "      <td>9952.0</td>\n",
       "      <td>56.885289</td>\n",
       "      <td>17.967138</td>\n",
       "      <td>10.94000</td>\n",
       "      <td>42.08000</td>\n",
       "      <td>57.02000</td>\n",
       "      <td>71.96000</td>\n",
       "      <td>100.04000</td>\n",
       "    </tr>\n",
       "    <tr>\n",
       "      <th>dewp</th>\n",
       "      <td>9952.0</td>\n",
       "      <td>41.578652</td>\n",
       "      <td>19.360524</td>\n",
       "      <td>-9.04000</td>\n",
       "      <td>26.06000</td>\n",
       "      <td>42.80000</td>\n",
       "      <td>57.92000</td>\n",
       "      <td>78.08000</td>\n",
       "    </tr>\n",
       "    <tr>\n",
       "      <th>humid</th>\n",
       "      <td>9952.0</td>\n",
       "      <td>59.699401</td>\n",
       "      <td>19.713338</td>\n",
       "      <td>12.74000</td>\n",
       "      <td>43.92000</td>\n",
       "      <td>57.99000</td>\n",
       "      <td>75.69000</td>\n",
       "      <td>100.00000</td>\n",
       "    </tr>\n",
       "    <tr>\n",
       "      <th>wind_dir</th>\n",
       "      <td>9731.0</td>\n",
       "      <td>199.824273</td>\n",
       "      <td>106.234823</td>\n",
       "      <td>0.00000</td>\n",
       "      <td>120.00000</td>\n",
       "      <td>220.00000</td>\n",
       "      <td>290.00000</td>\n",
       "      <td>360.00000</td>\n",
       "    </tr>\n",
       "    <tr>\n",
       "      <th>wind_speed</th>\n",
       "      <td>9951.0</td>\n",
       "      <td>11.082228</td>\n",
       "      <td>5.635370</td>\n",
       "      <td>0.00000</td>\n",
       "      <td>6.90468</td>\n",
       "      <td>10.35702</td>\n",
       "      <td>14.96014</td>\n",
       "      <td>42.57886</td>\n",
       "    </tr>\n",
       "    <tr>\n",
       "      <th>wind_gust</th>\n",
       "      <td>2387.0</td>\n",
       "      <td>25.296430</td>\n",
       "      <td>6.143810</td>\n",
       "      <td>16.11092</td>\n",
       "      <td>20.71404</td>\n",
       "      <td>24.16638</td>\n",
       "      <td>28.76950</td>\n",
       "      <td>66.74524</td>\n",
       "    </tr>\n",
       "    <tr>\n",
       "      <th>precip</th>\n",
       "      <td>9954.0</td>\n",
       "      <td>0.004574</td>\n",
       "      <td>0.033679</td>\n",
       "      <td>0.00000</td>\n",
       "      <td>0.00000</td>\n",
       "      <td>0.00000</td>\n",
       "      <td>0.00000</td>\n",
       "      <td>1.21000</td>\n",
       "    </tr>\n",
       "    <tr>\n",
       "      <th>pressure</th>\n",
       "      <td>8808.0</td>\n",
       "      <td>1017.805722</td>\n",
       "      <td>7.545151</td>\n",
       "      <td>985.00000</td>\n",
       "      <td>1012.70000</td>\n",
       "      <td>1017.50000</td>\n",
       "      <td>1022.70000</td>\n",
       "      <td>1042.10000</td>\n",
       "    </tr>\n",
       "    <tr>\n",
       "      <th>visib</th>\n",
       "      <td>9954.0</td>\n",
       "      <td>9.237887</td>\n",
       "      <td>2.043394</td>\n",
       "      <td>0.06000</td>\n",
       "      <td>10.00000</td>\n",
       "      <td>10.00000</td>\n",
       "      <td>10.00000</td>\n",
       "      <td>10.00000</td>\n",
       "    </tr>\n",
       "    <tr>\n",
       "      <th>engines</th>\n",
       "      <td>8499.0</td>\n",
       "      <td>1.993293</td>\n",
       "      <td>0.097400</td>\n",
       "      <td>1.00000</td>\n",
       "      <td>2.00000</td>\n",
       "      <td>2.00000</td>\n",
       "      <td>2.00000</td>\n",
       "      <td>4.00000</td>\n",
       "    </tr>\n",
       "    <tr>\n",
       "      <th>seats</th>\n",
       "      <td>8499.0</td>\n",
       "      <td>135.897870</td>\n",
       "      <td>72.402517</td>\n",
       "      <td>2.00000</td>\n",
       "      <td>55.00000</td>\n",
       "      <td>149.00000</td>\n",
       "      <td>189.00000</td>\n",
       "      <td>400.00000</td>\n",
       "    </tr>\n",
       "    <tr>\n",
       "      <th>arr_delay</th>\n",
       "      <td>9716.0</td>\n",
       "      <td>0.410045</td>\n",
       "      <td>0.491867</td>\n",
       "      <td>0.00000</td>\n",
       "      <td>0.00000</td>\n",
       "      <td>0.00000</td>\n",
       "      <td>1.00000</td>\n",
       "      <td>1.00000</td>\n",
       "    </tr>\n",
       "  </tbody>\n",
       "</table>\n",
       "</div>"
      ],
      "text/plain": [
       "              count         mean          std        min         25%  \\\n",
       "flight      10000.0  1993.785200  1637.565161    1.00000   580.75000   \n",
       "air_time     9716.0   149.771099    92.714630   21.00000    81.00000   \n",
       "distance    10000.0  1033.036700   722.747763   80.00000   502.00000   \n",
       "hour        10000.0    13.185300     4.691094    5.00000     9.00000   \n",
       "minute      10000.0    26.405800    19.286677    0.00000     9.00000   \n",
       "temp         9952.0    56.885289    17.967138   10.94000    42.08000   \n",
       "dewp         9952.0    41.578652    19.360524   -9.04000    26.06000   \n",
       "humid        9952.0    59.699401    19.713338   12.74000    43.92000   \n",
       "wind_dir     9731.0   199.824273   106.234823    0.00000   120.00000   \n",
       "wind_speed   9951.0    11.082228     5.635370    0.00000     6.90468   \n",
       "wind_gust    2387.0    25.296430     6.143810   16.11092    20.71404   \n",
       "precip       9954.0     0.004574     0.033679    0.00000     0.00000   \n",
       "pressure     8808.0  1017.805722     7.545151  985.00000  1012.70000   \n",
       "visib        9954.0     9.237887     2.043394    0.06000    10.00000   \n",
       "engines      8499.0     1.993293     0.097400    1.00000     2.00000   \n",
       "seats        8499.0   135.897870    72.402517    2.00000    55.00000   \n",
       "arr_delay    9716.0     0.410045     0.491867    0.00000     0.00000   \n",
       "\n",
       "                   50%         75%         max  \n",
       "flight      1511.00000  3514.25000  6181.00000  \n",
       "air_time     130.00000   191.00000   648.00000  \n",
       "distance     872.00000  1389.00000  4983.00000  \n",
       "hour          13.00000    17.00000    23.00000  \n",
       "minute        29.00000    45.00000    59.00000  \n",
       "temp          57.02000    71.96000   100.04000  \n",
       "dewp          42.80000    57.92000    78.08000  \n",
       "humid         57.99000    75.69000   100.00000  \n",
       "wind_dir     220.00000   290.00000   360.00000  \n",
       "wind_speed    10.35702    14.96014    42.57886  \n",
       "wind_gust     24.16638    28.76950    66.74524  \n",
       "precip         0.00000     0.00000     1.21000  \n",
       "pressure    1017.50000  1022.70000  1042.10000  \n",
       "visib         10.00000    10.00000    10.00000  \n",
       "engines        2.00000     2.00000     4.00000  \n",
       "seats        149.00000   189.00000   400.00000  \n",
       "arr_delay      0.00000     1.00000     1.00000  "
      ]
     },
     "execution_count": 191,
     "metadata": {},
     "output_type": "execute_result"
    }
   ],
   "source": [
    "data.describe().T"
   ]
  },
  {
   "cell_type": "markdown",
   "metadata": {},
   "source": [
    "### Filled Missing Values in Label and defined X and Y"
   ]
  },
  {
   "cell_type": "code",
   "execution_count": 192,
   "metadata": {},
   "outputs": [],
   "source": [
    "data['arr_delay'] = data['arr_delay'].fillna(0)"
   ]
  },
  {
   "cell_type": "code",
   "execution_count": 193,
   "metadata": {},
   "outputs": [],
   "source": [
    "numbers=['air_time', 'temp', 'dewp', 'humid', 'wind_dir', 'wind_speed',\n",
    "        'precip', 'pressure', 'visib' , 'wind_gust' ]\n",
    "categories=['engine','origin', 'type']"
   ]
  },
  {
   "cell_type": "code",
   "execution_count": 194,
   "metadata": {},
   "outputs": [],
   "source": [
    "X=data.drop([\"arr_delay\"],axis=1)\n",
    "y=data[\"arr_delay\"]"
   ]
  },
  {
   "cell_type": "markdown",
   "metadata": {},
   "source": [
    "### Split X and y into train and test"
   ]
  },
  {
   "cell_type": "code",
   "execution_count": 195,
   "metadata": {},
   "outputs": [
    {
     "name": "stdout",
     "output_type": "stream",
     "text": [
      "Training examples: 6000\n",
      "Test examples: 4000\n"
     ]
    }
   ],
   "source": [
    "X_train, X_test, y_train, y_test = train_test_split(X, y, test_size=0.4, random_state=1)\n",
    "print(f'Training examples: {X_train.shape[0]}')\n",
    "print(f'Test examples: {X_test.shape[0]}')"
   ]
  },
  {
   "cell_type": "code",
   "execution_count": 196,
   "metadata": {},
   "outputs": [],
   "source": [
    "from sklearn.model_selection import cross_val_score\n",
    "from sklearn.linear_model import LogisticRegression\n",
    "from sklearn.tree import DecisionTreeClassifier\n",
    "from sklearn.svm import SVC\n",
    "from sklearn.pipeline import Pipeline\n",
    "import numpy as np\n",
    "from sklearn.impute import SimpleImputer\n",
    "from sklearn.compose import ColumnTransformer\n",
    "from sklearn.preprocessing import OneHotEncoder\n",
    "from sklearn.preprocessing import StandardScaler"
   ]
  },
  {
   "cell_type": "markdown",
   "metadata": {},
   "source": [
    "### Created pipeline for imputation of numerical and categorical values"
   ]
  },
  {
   "cell_type": "code",
   "execution_count": 197,
   "metadata": {},
   "outputs": [],
   "source": [
    "from sklearn.pipeline import Pipeline\n",
    "numerical_pipeline = Pipeline([('impute_missing', SimpleImputer(missing_values = np.nan ,strategy='mean')),\n",
    "                           ('standardize_num', StandardScaler())])\n",
    "\n",
    "categorical_pipeline = Pipeline([('impute_missing_cats', SimpleImputer(missing_values = np.nan , strategy='most_frequent')),\n",
    "                          ('create_dummies_cats', OneHotEncoder(handle_unknown='ignore',  sparse=False))])\n",
    "\n",
    "processing_pipeline = ColumnTransformer(transformers=[('proc_numeric', numerical_pipeline, numbers),\n",
    "                                                      ('create_dummies', categorical_pipeline, categories)])"
   ]
  },
  {
   "cell_type": "markdown",
   "metadata": {},
   "source": [
    "### Pipeline for processing and three models - logistic regression , Decision Tree and Support vector classifier."
   ]
  },
  {
   "cell_type": "code",
   "execution_count": 198,
   "metadata": {},
   "outputs": [],
   "source": [
    "p1 = Pipeline([('processing', processing_pipeline),\n",
    "               ('logreg', LogisticRegression())])\n",
    "\n",
    "p2 = Pipeline([('processing', processing_pipeline),\n",
    "               ('tree', DecisionTreeClassifier())])\n",
    "\n",
    "p3 = Pipeline([('processing', processing_pipeline),\n",
    "               ('svc', SVC())])\n",
    "\n",
    "labs = ['Logistic Regression', 'Decision Tree', 'SVM']\n",
    "clfs = [p1, p2, p3]\n",
    "clfs = zip(labs, clfs)"
   ]
  },
  {
   "cell_type": "markdown",
   "metadata": {},
   "source": [
    "### use voting classifier and measure ROC AUC for all models"
   ]
  },
  {
   "cell_type": "code",
   "execution_count": 199,
   "metadata": {
    "scrolled": true
   },
   "outputs": [
    {
     "name": "stderr",
     "output_type": "stream",
     "text": [
      "C:\\Users\\ASUS\\anaconda3\\lib\\site-packages\\sklearn\\linear_model\\_logistic.py:762: ConvergenceWarning: lbfgs failed to converge (status=1):\n",
      "STOP: TOTAL NO. of ITERATIONS REACHED LIMIT.\n",
      "\n",
      "Increase the number of iterations (max_iter) or scale the data as shown in:\n",
      "    https://scikit-learn.org/stable/modules/preprocessing.html\n",
      "Please also refer to the documentation for alternative solver options:\n",
      "    https://scikit-learn.org/stable/modules/linear_model.html#logistic-regression\n",
      "  n_iter_i = _check_optimize_result(\n",
      "C:\\Users\\ASUS\\anaconda3\\lib\\site-packages\\sklearn\\linear_model\\_logistic.py:762: ConvergenceWarning: lbfgs failed to converge (status=1):\n",
      "STOP: TOTAL NO. of ITERATIONS REACHED LIMIT.\n",
      "\n",
      "Increase the number of iterations (max_iter) or scale the data as shown in:\n",
      "    https://scikit-learn.org/stable/modules/preprocessing.html\n",
      "Please also refer to the documentation for alternative solver options:\n",
      "    https://scikit-learn.org/stable/modules/linear_model.html#logistic-regression\n",
      "  n_iter_i = _check_optimize_result(\n",
      "C:\\Users\\ASUS\\anaconda3\\lib\\site-packages\\sklearn\\linear_model\\_logistic.py:762: ConvergenceWarning: lbfgs failed to converge (status=1):\n",
      "STOP: TOTAL NO. of ITERATIONS REACHED LIMIT.\n",
      "\n",
      "Increase the number of iterations (max_iter) or scale the data as shown in:\n",
      "    https://scikit-learn.org/stable/modules/preprocessing.html\n",
      "Please also refer to the documentation for alternative solver options:\n",
      "    https://scikit-learn.org/stable/modules/linear_model.html#logistic-regression\n",
      "  n_iter_i = _check_optimize_result(\n",
      "C:\\Users\\ASUS\\anaconda3\\lib\\site-packages\\sklearn\\linear_model\\_logistic.py:762: ConvergenceWarning: lbfgs failed to converge (status=1):\n",
      "STOP: TOTAL NO. of ITERATIONS REACHED LIMIT.\n",
      "\n",
      "Increase the number of iterations (max_iter) or scale the data as shown in:\n",
      "    https://scikit-learn.org/stable/modules/preprocessing.html\n",
      "Please also refer to the documentation for alternative solver options:\n",
      "    https://scikit-learn.org/stable/modules/linear_model.html#logistic-regression\n",
      "  n_iter_i = _check_optimize_result(\n",
      "C:\\Users\\ASUS\\anaconda3\\lib\\site-packages\\sklearn\\linear_model\\_logistic.py:762: ConvergenceWarning: lbfgs failed to converge (status=1):\n",
      "STOP: TOTAL NO. of ITERATIONS REACHED LIMIT.\n",
      "\n",
      "Increase the number of iterations (max_iter) or scale the data as shown in:\n",
      "    https://scikit-learn.org/stable/modules/preprocessing.html\n",
      "Please also refer to the documentation for alternative solver options:\n",
      "    https://scikit-learn.org/stable/modules/linear_model.html#logistic-regression\n",
      "  n_iter_i = _check_optimize_result(\n"
     ]
    },
    {
     "name": "stdout",
     "output_type": "stream",
     "text": [
      "ROC AUC 0.58 (+/- 0.02) [Logistic Regression]\n",
      "ROC AUC 0.55 (+/- 0.02) [Decision Tree]\n",
      "ROC AUC 0.59 (+/- 0.02) [SVM]\n"
     ]
    }
   ],
   "source": [
    "from sklearn.ensemble import VotingClassifier\n",
    "\n",
    "ems = [('lr', p1),('dc', p2),('svc', p3)]\n",
    "clf4 = VotingClassifier(estimators= ems, weights=None, voting='soft')\n",
    "\n",
    "for lab, clf in clfs:\n",
    "    scores = cross_val_score(estimator=clf, X=X_train, y=y_train, cv=10, scoring='roc_auc')\n",
    "    print(f'ROC AUC {scores.mean():.2f} (+/- {scores.std():.2f}) [{lab}]')\n"
   ]
  },
  {
   "cell_type": "markdown",
   "metadata": {},
   "source": [
    "### Decision tree performance on train and train data"
   ]
  },
  {
   "cell_type": "code",
   "execution_count": 200,
   "metadata": {},
   "outputs": [
    {
     "name": "stdout",
     "output_type": "stream",
     "text": [
      "Tree Training Score: 99.98%\n",
      "Tree Test Score: 57.55%\n"
     ]
    }
   ],
   "source": [
    "from sklearn.metrics import accuracy_score\n",
    "\n",
    "tree = p2.fit(X_train, y_train)\n",
    "tree_train_predict = tree.predict(X_train)\n",
    "tree_test_predict = tree.predict(X_test)\n",
    "\n",
    "tree_train_score = accuracy_score(y_train, tree_train_predict)\n",
    "tree_test_score = accuracy_score(y_test, tree_test_predict)\n",
    "\n",
    "print(f'Tree Training Score: {tree_train_score:.2%}')\n",
    "print(f'Tree Test Score: {tree_test_score:.2%}')"
   ]
  },
  {
   "cell_type": "markdown",
   "metadata": {},
   "source": [
    "### AdaBoost  performance on train and train data"
   ]
  },
  {
   "cell_type": "code",
   "execution_count": 201,
   "metadata": {},
   "outputs": [
    {
     "name": "stdout",
     "output_type": "stream",
     "text": [
      "AdaBoost Training Score: 64.57%\n",
      "AdaBoost Test Score: 64.18%\n"
     ]
    }
   ],
   "source": [
    "from sklearn.ensemble import AdaBoostClassifier\n",
    "\n",
    "p4 = Pipeline([('processing', processing_pipeline),\n",
    "        ( 'AdaBoost',AdaBoostClassifier())])\n",
    "\n",
    "ada = p4.fit(X_train, y_train)\n",
    "ada_train_predict = ada.predict(X_train)\n",
    "ada_test_predict = ada.predict(X_test)\n",
    "\n",
    "ada_train_score = accuracy_score(y_train, ada_train_predict)\n",
    "ada_test_score = accuracy_score(y_test, ada_test_predict)\n",
    "\n",
    "print(f'AdaBoost Training Score: {ada_train_score:.2%}')\n",
    "print(f'AdaBoost Test Score: {ada_test_score:.2%}')"
   ]
  },
  {
   "cell_type": "markdown",
   "metadata": {},
   "source": [
    "### Note : Ada boost have proper model whereas tree has overffited."
   ]
  },
  {
   "cell_type": "code",
   "execution_count": null,
   "metadata": {},
   "outputs": [],
   "source": []
  }
 ],
 "metadata": {
  "kernelspec": {
   "display_name": "Python 3",
   "language": "python",
   "name": "python3"
  },
  "language_info": {
   "codemirror_mode": {
    "name": "ipython",
    "version": 3
   },
   "file_extension": ".py",
   "mimetype": "text/x-python",
   "name": "python",
   "nbconvert_exporter": "python",
   "pygments_lexer": "ipython3",
   "version": "3.8.3"
  }
 },
 "nbformat": 4,
 "nbformat_minor": 4
}
